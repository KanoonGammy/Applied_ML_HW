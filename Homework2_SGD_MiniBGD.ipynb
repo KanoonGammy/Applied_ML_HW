{
  "nbformat": 4,
  "nbformat_minor": 0,
  "metadata": {
    "colab": {
      "provenance": [],
      "authorship_tag": "ABX9TyMZOoVdEwibdD/gcUh16XBk",
      "include_colab_link": true
    },
    "kernelspec": {
      "name": "python3",
      "display_name": "Python 3"
    },
    "language_info": {
      "name": "python"
    }
  },
  "cells": [
    {
      "cell_type": "markdown",
      "metadata": {
        "id": "view-in-github",
        "colab_type": "text"
      },
      "source": [
        "<a href=\"https://colab.research.google.com/github/KanoonGammy/Applied_ML_HW/blob/main/Homework2_SGD_MiniBGD.ipynb\" target=\"_parent\"><img src=\"https://colab.research.google.com/assets/colab-badge.svg\" alt=\"Open In Colab\"/></a>"
      ]
    },
    {
      "cell_type": "code",
      "execution_count": 1,
      "metadata": {
        "id": "aguilAjZ_X-q"
      },
      "outputs": [],
      "source": [
        "import pandas as pd\n",
        "import numpy as np"
      ]
    },
    {
      "cell_type": "code",
      "source": [
        "x = np.array([[0,1],[2,6],[3,8]]) #x1, x2\n",
        "y = np.array([1,1,4])\n",
        "x_b = np.c_[np.ones((len(x),1)),x]"
      ],
      "metadata": {
        "id": "UlbaWjZ6_hS9"
      },
      "execution_count": 3,
      "outputs": []
    },
    {
      "cell_type": "markdown",
      "source": [
        "# Stochastic Gradient Descent"
      ],
      "metadata": {
        "id": "vyJ-RePX_uW6"
      }
    },
    {
      "cell_type": "code",
      "source": [
        "# Cost funtion of Stochastic Gradient Descent\n",
        "def cost_function_SGD(theta, x, y, N):\n",
        "    mrg_xy = np.c_[x, y] # merge x(with bias) and y\n",
        "    RanN = np.random.randint(0, mrg_xy.shape[1]-1) # random integer\n",
        "    y_hat = theta[0] * mrg_xy[RanN][0] + theta[1] * mrg_xy[RanN][1] + theta[2] * mrg_xy[RanN][2]\n",
        "    diff = y_hat - mrg_xy[RanN][3]\n",
        "    c = (diff)**2\n",
        "\n",
        "    return c"
      ],
      "metadata": {
        "id": "f8Jmbkwm_y2o"
      },
      "execution_count": 4,
      "outputs": []
    },
    {
      "cell_type": "code",
      "source": [
        "def stochastic_gradient_descent(alpha, lamda_ , x, y, ep=0.000000000001, max_iter=10000):\n",
        "    converged = False\n",
        "    iter = 0\n",
        "    N = x.shape[0] # N = row\n",
        "    t = 1\n",
        "\n",
        "    # initial theta\n",
        "    theta = np.random.random((x.shape[1],1))\n",
        "    print(f\"Initial theta: {theta}\")\n",
        "\n",
        "    # total error, J(theta)\n",
        "    J = cost_function_SGD(theta, x, y, N)\n",
        "    print(\"First J:\", J)\n",
        "\n",
        "    # Iterate Loop\n",
        "    while not converged:\n",
        "        mrg_xy = np.c_[x, y] # rebuild\n",
        "        RanN = np.random.randint(0, mrg_xy.shape[1]-1) # random integer\n",
        "        y_hat = theta[0] * mrg_xy[RanN][0] + theta[1] * mrg_xy[RanN][1] + theta[2] * mrg_xy[RanN][2]\n",
        "        diff = y_hat - mrg_xy[RanN][3]\n",
        "        stoch = (x[RanN] * diff).reshape(-1,1) # x_ij * diff\n",
        "\n",
        "        alpha_t = alpha / (1+(alpha*lamda_*t)) #alpha t +1\n",
        "\n",
        "        theta = theta - alpha_t * (stoch) # update theta\n",
        "\n",
        "        assert theta.shape == (x.shape[1],1) #This line makes sure that the shape of theta is still be the same.\n",
        "\n",
        "        # error\n",
        "        J2 = cost_function_SGD(theta, x, y, N) # use updated theta\n",
        "\n",
        "        if abs(J-J2) <= ep:\n",
        "            print(\"       Converged, iterations: \", iter, \"/\", max_iter)\n",
        "            converged = True\n",
        "\n",
        "        J = J2   # update error s\n",
        "        iter += 1  # update iter\n",
        "        t += 1\n",
        "\n",
        "        if iter == max_iter:\n",
        "            print('       Max iterations exceeded!')\n",
        "            converged = True\n",
        "\n",
        "    #print(\"End converged iter = \",iter)\n",
        "    return theta"
      ],
      "metadata": {
        "id": "83ILFp_AAQeP"
      },
      "execution_count": 8,
      "outputs": []
    },
    {
      "cell_type": "code",
      "source": [
        "if __name__ == '__main__':\n",
        "\n",
        "    alpha = 0.01 # learning rate\n",
        "    lambda_ = 0.1\n",
        "\n",
        "    #Training process\n",
        "    theta = stochastic_gradient_descent(alpha, lambda_, x_b, y, ep=0.00000000000001, max_iter=100000)\n",
        "    print (\"Theta = \", theta)\n",
        "\n",
        "    #predict trainned x\n",
        "    xtest = np.array([[i,j] for i,j in zip(range(20), range(20))])\n",
        "    xtest_b = np.c_[np.ones((xtest.shape[0],1)),xtest]\n",
        "    y_p = xtest_b.dot(theta)\n",
        "    print(\"y predict = \",y_p)\n",
        "\n",
        "    import matplotlib.pyplot as plt\n",
        "    plt.title(\"y = \"+str(np.round(theta[0],2))+\"+\"+str(np.round(theta[1],2))+r\"$x_1$\"+\"+\"+str(np.round(theta[2],2))+r\"$x_2$\")\n",
        "    plt.plot(xtest, y_p,\"r.-\")\n",
        "    plt.plot(x[:,0], y, \"b+\")\n",
        "    plt.plot(x[:,1], y, \"g+\")\n",
        "\n",
        "    plt.axis([0,10,0,10])\n",
        "    plt.xlabel(r'$x$')\n",
        "\n",
        "    plt.ylabel(r'$y$')\n",
        "    plt.show()"
      ],
      "metadata": {
        "colab": {
          "base_uri": "https://localhost:8080/",
          "height": 960
        },
        "id": "ybXW1tkZBTcB",
        "outputId": "6da9eaa3-6fa3-4e79-f783-36b5dfb8eaea"
      },
      "execution_count": 12,
      "outputs": [
        {
          "output_type": "stream",
          "name": "stdout",
          "text": [
            "Initial theta: [[0.98559527]\n",
            " [0.07629185]\n",
            " [0.80510483]]\n",
            "First J: [24.6890523]\n",
            "       Max iterations exceeded!\n",
            "Theta =  [[ 1.14977488]\n",
            " [ 2.136414  ]\n",
            " [-0.55105292]]\n",
            "y predict =  [[ 1.14977488]\n",
            " [ 2.73513596]\n",
            " [ 4.32049703]\n",
            " [ 5.90585811]\n",
            " [ 7.49121918]\n",
            " [ 9.07658026]\n",
            " [10.66194133]\n",
            " [12.24730241]\n",
            " [13.83266348]\n",
            " [15.41802456]\n",
            " [17.00338564]\n",
            " [18.58874671]\n",
            " [20.17410779]\n",
            " [21.75946886]\n",
            " [23.34482994]\n",
            " [24.93019101]\n",
            " [26.51555209]\n",
            " [28.10091316]\n",
            " [29.68627424]\n",
            " [31.27163531]]\n"
          ]
        },
        {
          "output_type": "display_data",
          "data": {
            "text/plain": [
              "<Figure size 640x480 with 1 Axes>"
            ],
            "image/png": "[encoded data removed]"
          },
          "metadata": {}
        }
      ]
    },
    {
      "cell_type": "markdown",
      "source": [
        "# Mini Batch Gradient Descent"
      ],
      "metadata": {
        "id": "xuyfRTnmBtf2"
      }
    },
    {
      "cell_type": "code",
      "source": [
        "# Cost funtion of Mini-Batch Gradient Descent\n",
        "def cost_function_miniBGD(theta, x, y, N):\n",
        "    mrg_xy = np.c_[x, y]\n",
        "    np.random.shuffle(mrg_xy)\n",
        "    mrg_xy = mrg_xy[:N]\n",
        "\n",
        "    c = 1/(2*N) * sum([(theta[0] + theta[1]*mrg_xy[i][1]+ theta[2]*mrg_xy[i][2] - mrg_xy[i][3])**2 for i in range(N)])\n",
        "\n",
        "    x = mrg_xy[:,:-1].reshape(-1, x.shape[1])\n",
        "    y = mrg_xy[:,-1].reshape(-1,1)\n",
        "    y_hat = x.dot(theta)\n",
        "    diff = y_hat - y\n",
        "    grad = x.T.dot(diff)\n",
        "\n",
        "    return c, grad"
      ],
      "metadata": {
        "id": "fFXHMBVSBfzX"
      },
      "execution_count": 13,
      "outputs": []
    },
    {
      "cell_type": "code",
      "source": [
        "def mini_batch_gradient_descent(alpha, x, y, N,ep=0.001, max_iter=10000):\n",
        "  converged = False\n",
        "  iter = 0\n",
        "\n",
        "  # initial theta\n",
        "  theta =  np.random.random((x.shape[1],1))\n",
        "  print(\"Init theta.shape = \",theta.shape)\n",
        "\n",
        "  # total error, J(theta)\n",
        "  J,grad = cost_function_miniBGD(theta, x, y, N)\n",
        "\n",
        "  # Iterate Loop\n",
        "  while not converged:\n",
        "\n",
        "    theta = theta - alpha * (1/N) * (grad)\n",
        "    # print(theta.shape)\n",
        "    assert theta.shape == (x.shape[1],1) #This line makes sure that the shape of theta is still be the same.\n",
        "\n",
        "    # error\n",
        "    J2,grad = cost_function_miniBGD(theta, x, y, N)\n",
        "\n",
        "    if abs(J-J2) <= ep:\n",
        "        print(\"       Converged, iterations: \", iter, \"/\", max_iter)\n",
        "        converged = True\n",
        "\n",
        "    J = J2   # update error s\n",
        "    iter += 1  # update iter\n",
        "\n",
        "    if iter == max_iter:\n",
        "        print('       Max iterations exceeded!')\n",
        "        converged = True\n",
        "\n",
        "  #print(\"End converged iter = \",iter)\n",
        "  return theta"
      ],
      "metadata": {
        "id": "x6btWjWfB7sX"
      },
      "execution_count": 14,
      "outputs": []
    },
    {
      "cell_type": "code",
      "source": [
        "if __name__ == '__main__':\n",
        "    alpha = 0.01 # learning rate\n",
        "    N = 2\n",
        "    theta = np.random.random((x.shape[1], 1))\n",
        "\n",
        "    #Training process\n",
        "    theta = mini_batch_gradient_descent(alpha, x_b, y, N, ep=0.00000000000001, max_iter=100)\n",
        "    print (\"Theta = \", theta)\n",
        "\n",
        "    #predict trainned x\n",
        "    xtest = np.array([[i,j] for i,j in zip(range(20), range(20))])\n",
        "    xtest_b = np.c_[np.ones((xtest.shape[0],1)),xtest]\n",
        "    y_p = xtest_b.dot(theta)\n",
        "    print(\"y predict = \",y_p)\n",
        "\n",
        "    import matplotlib.pyplot as plt\n",
        "    plt.title(\"y = \"+str(np.round(theta[0],2))+\"+\"+str(np.round(theta[1],2))+r\"$x_1$\"+\"+\"+str(np.round(theta[2],2))+r\"$x_2$\")\n",
        "    plt.plot(xtest, y_p,\"r.-\")\n",
        "    plt.plot(x[:,0], y, \"b+\")\n",
        "    plt.plot(x[:,1], y, \"g+\")\n",
        "\n",
        "    plt.axis([0,10,0,10])\n",
        "    plt.xlabel(r'$x$')\n",
        "\n",
        "    plt.ylabel(r'$y$')\n",
        "    plt.show()"
      ],
      "metadata": {
        "colab": {
          "base_uri": "https://localhost:8080/",
          "height": 908
        },
        "id": "1dedwPIhCCcR",
        "outputId": "68d3a60c-e139-4672-ec6c-d8e95b595085"
      },
      "execution_count": 16,
      "outputs": [
        {
          "output_type": "stream",
          "name": "stdout",
          "text": [
            "Init theta.shape =  (3, 1)\n",
            "       Max iterations exceeded!\n",
            "Theta =  [[0.58793496]\n",
            " [0.38531594]\n",
            " [0.17658594]]\n",
            "y predict =  [[ 0.58793496]\n",
            " [ 1.14983684]\n",
            " [ 1.71173872]\n",
            " [ 2.2736406 ]\n",
            " [ 2.83554248]\n",
            " [ 3.39744436]\n",
            " [ 3.95934624]\n",
            " [ 4.52124812]\n",
            " [ 5.08315   ]\n",
            " [ 5.64505188]\n",
            " [ 6.20695376]\n",
            " [ 6.76885564]\n",
            " [ 7.33075752]\n",
            " [ 7.8926594 ]\n",
            " [ 8.45456128]\n",
            " [ 9.01646316]\n",
            " [ 9.57836504]\n",
            " [10.14026692]\n",
            " [10.7021688 ]\n",
            " [11.26407068]]\n"
          ]
        },
        {
          "output_type": "display_data",
          "data": {
            "text/plain": [
              "<Figure size 640x480 with 1 Axes>"
            ],
            "image/png": "[encoded data removed]"
          },
          "metadata": {}
        }
      ]
    }
  ]
}